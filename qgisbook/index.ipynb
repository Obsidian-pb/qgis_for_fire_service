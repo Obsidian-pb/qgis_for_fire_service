{
  "cells": [
    {
      "cell_type": "markdown",
      "metadata": {},
      "source": [
        "# Предисловие {.unnumbered}\n",
        "\n",
        "Написано при помощи публикационной системы Quarto book <https://quarto.org/docs/books> версия "
      ],
      "id": "bd8017d0"
    },
    {
      "cell_type": "markdown",
      "metadata": {},
      "source": [
        " print(\"123\")\n",
        " ```"
      ],
      "id": "90d2f2e0"
    }
  ],
  "metadata": {
    "kernelspec": {
      "display_name": "Python 3",
      "language": "python",
      "name": "python3"
    }
  },
  "nbformat": 4,
  "nbformat_minor": 5
}