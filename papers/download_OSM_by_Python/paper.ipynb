{
 "cells": [
  {
   "cell_type": "code",
   "execution_count": null,
   "metadata": {},
   "outputs": [],
   "source": [
    "# Загрузка геопространственных данных Open street map для использования в QGIS"
   ]
  },
  {
   "cell_type": "markdown",
   "metadata": {},
   "source": [
    "## Введение\n",
    "Описываем проблематику - картографические данные нужны, а их нет. Поэтому удобно использовать данные OSM. При этом можно купить, но для ограниченных задач этого не требуется!\n",
    "\n"
   ]
  },
  {
   "cell_type": "markdown",
   "metadata": {},
   "source": [
    "## Общие сведения о OSM"
   ]
  },
  {
   "cell_type": "markdown",
   "metadata": {},
   "source": [
    "## Библиотеки выгрузки данных\n",
    "Nominatim\n",
    "Overpass\n",
    "OSMNX\n",
    "\n",
    "Здесь же про форматы данных - gpckg"
   ]
  },
  {
   "cell_type": "markdown",
   "metadata": {},
   "source": [
    "## Алгоритм выгрузки данных"
   ]
  },
  {
   "cell_type": "markdown",
   "metadata": {},
   "source": [
    "Первым делом для выгрузки данных следует подключить соответствующую библиотеку."
   ]
  },
  {
   "cell_type": "code",
   "execution_count": 1,
   "metadata": {},
   "outputs": [],
   "source": [
    "import osmnx as ox"
   ]
  },
  {
   "cell_type": "markdown",
   "metadata": {},
   "source": []
  },
  {
   "cell_type": "markdown",
   "metadata": {},
   "source": [
    "Для удобства дальнейшей работы весь ход загрузки и сохранения данных в формате geopackage был обернут в специальную функцию."
   ]
  },
  {
   "cell_type": "code",
   "execution_count": 2,
   "metadata": {},
   "outputs": [],
   "source": [
    "def dwnld_from_osm_by_place(place, tags, fields, file_name, layer_name):\n",
    "    '''\n",
    "    Функция загружает произвольные данные из области ограниченной географической территорией \n",
    "    и сохраняет их в файле по указанному пути\n",
    "\n",
    "    place - строковое наименование географической территории\n",
    "\n",
    "    tags - набор тегов идентифицирующих данные которые следует загрузить\n",
    "\n",
    "    fields - словарь полей которые следует сохранить для полученного набора. \n",
    "    Ключом является имя поля которое следует сохранить в стартовом наборе, \n",
    "    значением - итоговое наименование поля в результирующем наборе. \n",
    "    Например, {'geometry':'geometry', 'name':'name', \n",
    "    'description':'description', 'amenity':'назначение', 'building':'здание'}.\n",
    "    Поля geometry, name и description являются обязательными, переименовывать их нельзя.\n",
    "\n",
    "    file_name - полное наименование итогового файла (включая путь).\n",
    "\n",
    "    layer_name - наименование слоя данных для отображения в легенде QGIS.\n",
    "    '''\n",
    "    # Загрузка данных из osmnx\n",
    "    gdf = ox.geometries_from_place(place, tags)\n",
    "    # Проверка наличия полей в полученном наборе данных\n",
    "    for field in list(fields.keys()):\n",
    "        if not field in gdf.columns:\n",
    "            del fields[field]\n",
    "    # Преобразование набора данных\n",
    "    gdf_s = gdf[list(fields.keys())]\n",
    "    gdf_s=gdf_s.rename(fields, axis='columns')\n",
    "    # Сохранение\n",
    "    gdf_s.to_file(file_name, driver='GPKG', layer=layer_name)\n",
    "\n",
    "    # Заключение о работе функции - печатаем количество сохраненных записей.\n",
    "    print(f\"Сохранено {gdf.shape[0]} записей для слоя {layer_name}\")"
   ]
  },
  {
   "cell_type": "markdown",
   "metadata": {},
   "source": [
    "Для оценки работы написанной программы загрузим некоторые данные для октябрьского района города Красноярска."
   ]
  },
  {
   "cell_type": "code",
   "execution_count": 5,
   "metadata": {},
   "outputs": [],
   "source": [
    "# Наименование географической территории для которой будем выгружать данные:\n",
    "place = \"Октябрьский район, Красноярск, городской округ Красноярск, Красноярский край, Сибирский федеральный округ, Россия\"\n",
    "# Путь к каталогу в котором будем сохранять полученные наборы данных\n",
    "path = \"G:/QGIS/Krsk-2/data/\""
   ]
  },
  {
   "cell_type": "markdown",
   "metadata": {},
   "source": [
    "Получим сведения о зданиях."
   ]
  },
  {
   "cell_type": "code",
   "execution_count": 6,
   "metadata": {},
   "outputs": [
    {
     "name": "stderr",
     "output_type": "stream",
     "text": [
      "c:\\Users\\obsid\\.conda\\envs\\ox\\lib\\site-packages\\osmnx\\utils_geo.py:335: ShapelyDeprecationWarning: Iteration over multi-part geometries is deprecated and will be removed in Shapely 2.0. Use the `geoms` property to access the constituent parts of a multi-part geometry.\n",
      "  for polygon in geometry:\n",
      "c:\\Users\\obsid\\.conda\\envs\\ox\\lib\\site-packages\\osmnx\\geometries.py:816: ShapelyDeprecationWarning: __len__ for multi-part geometries is deprecated and will be removed in Shapely 2.0. Check the length of the `geoms` property instead to get the  number of parts of a multi-part geometry.\n",
      "  for merged_inner_linestring in list(merged_inner_linestrings):\n",
      "c:\\Users\\obsid\\.conda\\envs\\ox\\lib\\site-packages\\osmnx\\geometries.py:816: ShapelyDeprecationWarning: Iteration over multi-part geometries is deprecated and will be removed in Shapely 2.0. Use the `geoms` property to access the constituent parts of a multi-part geometry.\n",
      "  for merged_inner_linestring in list(merged_inner_linestrings):\n",
      "c:\\Users\\obsid\\.conda\\envs\\ox\\lib\\site-packages\\osmnx\\geometries.py:805: ShapelyDeprecationWarning: __len__ for multi-part geometries is deprecated and will be removed in Shapely 2.0. Check the length of the `geoms` property instead to get the  number of parts of a multi-part geometry.\n",
      "  for merged_outer_linestring in list(merged_outer_linestrings):\n",
      "c:\\Users\\obsid\\.conda\\envs\\ox\\lib\\site-packages\\osmnx\\geometries.py:805: ShapelyDeprecationWarning: Iteration over multi-part geometries is deprecated and will be removed in Shapely 2.0. Use the `geoms` property to access the constituent parts of a multi-part geometry.\n",
      "  for merged_outer_linestring in list(merged_outer_linestrings):\n",
      "c:\\Users\\obsid\\.conda\\envs\\ox\\lib\\site-packages\\osmnx\\utils_geo.py:426: ShapelyDeprecationWarning: Iteration over multi-part geometries is deprecated and will be removed in Shapely 2.0. Use the `geoms` property to access the constituent parts of a multi-part geometry.\n",
      "  for poly in multipoly:\n"
     ]
    },
    {
     "name": "stdout",
     "output_type": "stream",
     "text": [
      "Сохранено 9875 записей\n"
     ]
    }
   ],
   "source": [
    "# набор тегов идентифицирующих данные которые следует загрузить\n",
    "tags = {'building': True}\n",
    "# словарь полей которые следует сохранить\n",
    "fields = {'geometry':'geometry',\n",
    "'name':'name',\n",
    "'description':'description',\n",
    "'amenity':'назначение',\n",
    "'building':'здание',\n",
    "'alt_name':'альт. имя',\n",
    "'official_name':'оф. имя',\n",
    "'abandoned':'заброшено',\n",
    "'ruins':'разрушено',\n",
    "'disused':'не используется',\n",
    "'addr:street':'улица',\n",
    "'addr:housenumber':'дом',\n",
    "'rooms':'комнат'}\n",
    "dwnld_from_osm_by_place(place, tags, fields, path+'bld.gpkg', 'здания')"
   ]
  },
  {
   "cell_type": "markdown",
   "metadata": {},
   "source": [
    "Аналогично загрузим данные о улицах и границе района."
   ]
  },
  {
   "cell_type": "code",
   "execution_count": 8,
   "metadata": {},
   "outputs": [
    {
     "name": "stderr",
     "output_type": "stream",
     "text": [
      "c:\\Users\\obsid\\.conda\\envs\\ox\\lib\\site-packages\\osmnx\\utils_geo.py:335: ShapelyDeprecationWarning: Iteration over multi-part geometries is deprecated and will be removed in Shapely 2.0. Use the `geoms` property to access the constituent parts of a multi-part geometry.\n",
      "  for polygon in geometry:\n",
      "c:\\Users\\obsid\\.conda\\envs\\ox\\lib\\site-packages\\osmnx\\utils_geo.py:426: ShapelyDeprecationWarning: Iteration over multi-part geometries is deprecated and will be removed in Shapely 2.0. Use the `geoms` property to access the constituent parts of a multi-part geometry.\n",
      "  for poly in multipoly:\n"
     ]
    },
    {
     "name": "stdout",
     "output_type": "stream",
     "text": [
      "Сохранено 5445 записей\n"
     ]
    },
    {
     "name": "stderr",
     "output_type": "stream",
     "text": [
      "c:\\Users\\obsid\\.conda\\envs\\ox\\lib\\site-packages\\osmnx\\utils_geo.py:335: ShapelyDeprecationWarning: Iteration over multi-part geometries is deprecated and will be removed in Shapely 2.0. Use the `geoms` property to access the constituent parts of a multi-part geometry.\n",
      "  for polygon in geometry:\n",
      "c:\\Users\\obsid\\.conda\\envs\\ox\\lib\\site-packages\\osmnx\\utils_geo.py:426: ShapelyDeprecationWarning: Iteration over multi-part geometries is deprecated and will be removed in Shapely 2.0. Use the `geoms` property to access the constituent parts of a multi-part geometry.\n",
      "  for poly in multipoly:\n"
     ]
    },
    {
     "name": "stdout",
     "output_type": "stream",
     "text": [
      "Сохранено 44 записей\n"
     ]
    }
   ],
   "source": [
    "# Дороги\n",
    "tags = {\"highway\": True}\n",
    "fields = {'geometry':'geometry',\n",
    "'name':'name',\n",
    "'description':'description',\n",
    "'highway':'HIGHWAY',\n",
    "'maxspeed':'макс. скорость',\n",
    "'oneway':'одностороннее', \n",
    "'width':'ширина',\n",
    "'bridge':'мост',\n",
    "'tunnel':'туннель',\n",
    "'railway':'ж/д'}\n",
    "dwnld_from_osm_by_place(place, tags, fields, path+'highways.gpkg', 'дороги')\n",
    "# Граница района\n",
    "tags = {'type': 'boundary', 'admin_level':'9', 'name':'Октябрьский район'}\n",
    "fields = {'geometry':'geometry',\n",
    "'name':'name',\n",
    "'description':'description'}\n",
    "dwnld_from_osm_by_place(place, tags, fields, path+'borders.gpkg', 'граница')"
   ]
  },
  {
   "cell_type": "markdown",
   "metadata": {},
   "source": [
    "## Настройка внешнего вида данных в картах QGIS"
   ]
  },
  {
   "cell_type": "markdown",
   "metadata": {},
   "source": [
    "## Заключение"
   ]
  }
 ],
 "metadata": {
  "kernelspec": {
   "display_name": "Python 3.9.7 ('ox')",
   "language": "python",
   "name": "python3"
  },
  "language_info": {
   "codemirror_mode": {
    "name": "ipython",
    "version": 3
   },
   "file_extension": ".py",
   "mimetype": "text/x-python",
   "name": "python",
   "nbconvert_exporter": "python",
   "pygments_lexer": "ipython3",
   "version": "3.9.7"
  },
  "orig_nbformat": 4,
  "vscode": {
   "interpreter": {
    "hash": "fdd07f462ea81370c1ef3cae96d710cd532d362b133b03b7a7d0b3bb63f317ab"
   }
  }
 },
 "nbformat": 4,
 "nbformat_minor": 2
}
